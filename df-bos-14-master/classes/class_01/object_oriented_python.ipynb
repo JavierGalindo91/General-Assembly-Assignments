{
 "cells": [
  {
   "cell_type": "markdown",
   "metadata": {},
   "source": [
    "# BINARY ADDITION"
   ]
  },
  {
   "cell_type": "code",
   "execution_count": 152,
   "metadata": {
    "collapsed": false
   },
   "outputs": [
    {
     "data": {
      "text/plain": [
       "'0b101110'"
      ]
     },
     "execution_count": 152,
     "metadata": {},
     "output_type": "execute_result"
    }
   ],
   "source": [
    "def add(a, b):\n",
    "    x = a^b\n",
    "    print bin(a), bin(b), bin(x)\n",
    "    while a&b:\n",
    "        b = ((a&b)<<1)\n",
    "        print bin(b)\n",
    "        a = x\n",
    "        x = a^b\n",
    "        print x\n",
    "    return x, bin(x)\n",
    "\n",
    "bin(0b10101 + 0b11001)"
   ]
  },
  {
   "cell_type": "code",
   "execution_count": 153,
   "metadata": {
    "collapsed": false
   },
   "outputs": [
    {
     "data": {
      "text/plain": [
       "True"
      ]
     },
     "execution_count": 153,
     "metadata": {},
     "output_type": "execute_result"
    }
   ],
   "source": [
    "0xff == 15*16 + 15"
   ]
  },
  {
   "cell_type": "code",
   "execution_count": null,
   "metadata": {
    "collapsed": true
   },
   "outputs": [],
   "source": []
  },
  {
   "cell_type": "code",
   "execution_count": 187,
   "metadata": {
    "collapsed": false,
    "scrolled": true
   },
   "outputs": [
    {
     "name": "stdout",
     "output_type": "stream",
     "text": [
      "overwrite\n",
      "class c\n",
      "class b\n",
      "Hi, I'm in class a\n",
      "x is 100\n"
     ]
    },
    {
     "data": {
      "text/plain": [
       "(3, 4)"
      ]
     },
     "execution_count": 187,
     "metadata": {},
     "output_type": "execute_result"
    }
   ],
   "source": [
    "class A(object):\n",
    "    def __init__(self):\n",
    "        self.x = 100\n",
    "        print 'Hi, I\\'m in class a'\n",
    "\n",
    "class B(A):\n",
    "    def __init__(self, value2):\n",
    "        self.value2 = value2\n",
    "        print 'class b'\n",
    "        super(B, self).__init__()\n",
    "\n",
    "class C(B):\n",
    "    def __init__(self, value, value2):\n",
    "        self.value = value\n",
    "        self.x = 'overwrite'\n",
    "        self.__b = 'private'\n",
    "        print self.x\n",
    "        print 'class c'\n",
    "        super(C, self).__init__(value2)\n",
    "    def reinit(self, value1, value2):\n",
    "        self.__init__(value1, value2)\n",
    "\n",
    "c = C(3,4)\n",
    "print 'x is %s' % c.x\n",
    "c.value, c.value2"
   ]
  },
  {
   "cell_type": "code",
   "execution_count": null,
   "metadata": {
    "collapsed": true
   },
   "outputs": [],
   "source": []
  },
  {
   "cell_type": "markdown",
   "metadata": {},
   "source": [
    "## OBJECTS"
   ]
  },
  {
   "cell_type": "code",
   "execution_count": 203,
   "metadata": {
    "collapsed": false
   },
   "outputs": [],
   "source": [
    "class A(object):\n",
    "    def __init__(self):\n",
    "        print 'class a'\n",
    "\n",
    "class B(A):\n",
    "    def __init__(self, value2):\n",
    "        self.value2 = value2\n",
    "        print 'class b'\n",
    "        super(B, self).__init__()\n",
    "        \n",
    "class C(B):\n",
    "    def __init__(self, value, value2):\n",
    "        self.value = value\n",
    "        print 'class c'\n",
    "        super(self.__class__, self).__init__(value2)\n",
    "    def __repr__(self):\n",
    "        return 'my value is ' + str(self.value)"
   ]
  },
  {
   "cell_type": "code",
   "execution_count": 205,
   "metadata": {
    "collapsed": false
   },
   "outputs": [
    {
     "name": "stdout",
     "output_type": "stream",
     "text": [
      "class c\n",
      "class b\n",
      "class a\n",
      "\n",
      "\n",
      "my value is 3\n"
     ]
    }
   ],
   "source": [
    "c = C(3, 4)\n",
    "# c.value, c.value2\n",
    "print ''\n",
    "print ''\n",
    "print c"
   ]
  },
  {
   "cell_type": "code",
   "execution_count": 192,
   "metadata": {
    "collapsed": true
   },
   "outputs": [],
   "source": [
    "class TooManyError(Exception):\n",
    "    def __init__(self, value):\n",
    "        self.value = value\n",
    "    def __str__(self):\n",
    "        return self.value\n",
    "\n",
    "\n",
    "class A(object):\n",
    "    _COUNTER = 0\n",
    "    def __init__(self):\n",
    "        type(self)._COUNTER += 1\n",
    "    def __new__(cls):\n",
    "        if cls._COUNTER > 2:\n",
    "            raise TooManyError('There Are %i Too Many A\\'s' % (cls._COUNTER - 2))\n",
    "        return super(A, cls).__new__(cls)"
   ]
  },
  {
   "cell_type": "code",
   "execution_count": 193,
   "metadata": {
    "collapsed": false
   },
   "outputs": [
    {
     "ename": "TooManyError",
     "evalue": "There Are 1 Too Many A's",
     "output_type": "error",
     "traceback": [
      "\u001b[0;31m---------------------------------------------------------------------------\u001b[0m",
      "\u001b[0;31mTooManyError\u001b[0m                              Traceback (most recent call last)",
      "\u001b[0;32m<ipython-input-193-942e0b676482>\u001b[0m in \u001b[0;36m<module>\u001b[0;34m()\u001b[0m\n\u001b[1;32m      2\u001b[0m \u001b[0mb\u001b[0m \u001b[0;34m=\u001b[0m \u001b[0mA\u001b[0m\u001b[0;34m(\u001b[0m\u001b[0;34m)\u001b[0m\u001b[0;34m\u001b[0m\u001b[0m\n\u001b[1;32m      3\u001b[0m \u001b[0mc\u001b[0m \u001b[0;34m=\u001b[0m \u001b[0mA\u001b[0m\u001b[0;34m(\u001b[0m\u001b[0;34m)\u001b[0m\u001b[0;34m\u001b[0m\u001b[0m\n\u001b[0;32m----> 4\u001b[0;31m \u001b[0md\u001b[0m \u001b[0;34m=\u001b[0m \u001b[0mA\u001b[0m\u001b[0;34m(\u001b[0m\u001b[0;34m)\u001b[0m\u001b[0;34m\u001b[0m\u001b[0m\n\u001b[0m",
      "\u001b[0;32m<ipython-input-192-ae3483bc4d03>\u001b[0m in \u001b[0;36m__new__\u001b[0;34m(cls)\u001b[0m\n\u001b[1;32m     12\u001b[0m     \u001b[0;32mdef\u001b[0m \u001b[0m__new__\u001b[0m\u001b[0;34m(\u001b[0m\u001b[0mcls\u001b[0m\u001b[0;34m)\u001b[0m\u001b[0;34m:\u001b[0m\u001b[0;34m\u001b[0m\u001b[0m\n\u001b[1;32m     13\u001b[0m         \u001b[0;32mif\u001b[0m \u001b[0mcls\u001b[0m\u001b[0;34m.\u001b[0m\u001b[0m_COUNTER\u001b[0m \u001b[0;34m>\u001b[0m \u001b[0;36m2\u001b[0m\u001b[0;34m:\u001b[0m\u001b[0;34m\u001b[0m\u001b[0m\n\u001b[0;32m---> 14\u001b[0;31m             \u001b[0;32mraise\u001b[0m \u001b[0mTooManyError\u001b[0m\u001b[0;34m(\u001b[0m\u001b[0;34m'There Are %i Too Many A\\'s'\u001b[0m \u001b[0;34m%\u001b[0m \u001b[0;34m(\u001b[0m\u001b[0mcls\u001b[0m\u001b[0;34m.\u001b[0m\u001b[0m_COUNTER\u001b[0m \u001b[0;34m-\u001b[0m \u001b[0;36m2\u001b[0m\u001b[0;34m)\u001b[0m\u001b[0;34m)\u001b[0m\u001b[0;34m\u001b[0m\u001b[0m\n\u001b[0m\u001b[1;32m     15\u001b[0m         \u001b[0;32mreturn\u001b[0m \u001b[0msuper\u001b[0m\u001b[0;34m(\u001b[0m\u001b[0mA\u001b[0m\u001b[0;34m,\u001b[0m \u001b[0mcls\u001b[0m\u001b[0;34m)\u001b[0m\u001b[0;34m.\u001b[0m\u001b[0m__new__\u001b[0m\u001b[0;34m(\u001b[0m\u001b[0mcls\u001b[0m\u001b[0;34m)\u001b[0m\u001b[0;34m\u001b[0m\u001b[0m\n",
      "\u001b[0;31mTooManyError\u001b[0m: There Are 1 Too Many A's"
     ]
    }
   ],
   "source": [
    "a = A()\n",
    "b = A()\n",
    "c = A()\n",
    "d = A()"
   ]
  },
  {
   "cell_type": "code",
   "execution_count": null,
   "metadata": {
    "collapsed": false
   },
   "outputs": [],
   "source": []
  },
  {
   "cell_type": "code",
   "execution_count": 213,
   "metadata": {
    "collapsed": true
   },
   "outputs": [],
   "source": [
    "class Global(object):\n",
    "    class __Global(object):\n",
    "        def __init__(self, value):\n",
    "            self.value = value\n",
    "    instance = None\n",
    "    def __init__(self, value=None):\n",
    "        if not Global.instance:\n",
    "            Global.instance = Global.__Global(value)\n",
    "        else:\n",
    "            if value:\n",
    "                Global.instance.value = value\n",
    "    def __getattr__(self, name):\n",
    "        return getattr(self.instance, name)\n",
    "    def __setattr__(self, name, value):\n",
    "        setattr(self.instance, name, value)"
   ]
  },
  {
   "cell_type": "code",
   "execution_count": 237,
   "metadata": {
    "collapsed": false
   },
   "outputs": [
    {
     "data": {
      "text/plain": [
       "47"
      ]
     },
     "execution_count": 237,
     "metadata": {},
     "output_type": "execute_result"
    }
   ],
   "source": [
    "def foo():\n",
    "    a = Global(100)\n",
    "foo()\n",
    "b = Global()\n",
    "b.value\n",
    "c = Global(47)\n",
    "c.value"
   ]
  },
  {
   "cell_type": "code",
   "execution_count": 120,
   "metadata": {
    "collapsed": false
   },
   "outputs": [
    {
     "name": "stdout",
     "output_type": "stream",
     "text": [
      "3\n",
      "10\n",
      "10\n",
      "temp value\n"
     ]
    }
   ],
   "source": [
    "a = Global(3)\n",
    "print a.value\n",
    "b = Global(10)\n",
    "print a.value\n",
    "print b.value\n",
    "b.temp = 'temp value'\n",
    "print b.temp"
   ]
  },
  {
   "cell_type": "code",
   "execution_count": 239,
   "metadata": {
    "collapsed": false
   },
   "outputs": [],
   "source": [
    "class NaN(object):\n",
    "    def __eq__(self, value):\n",
    "        return False"
   ]
  },
  {
   "cell_type": "code",
   "execution_count": 241,
   "metadata": {
    "collapsed": false
   },
   "outputs": [
    {
     "data": {
      "text/plain": [
       "False"
      ]
     },
     "execution_count": 241,
     "metadata": {},
     "output_type": "execute_result"
    }
   ],
   "source": [
    "nan1 = NaN()\n",
    "nan2 = NaN()\n",
    "nan1 == nan1\n",
    "nan1 == nan2"
   ]
  },
  {
   "cell_type": "code",
   "execution_count": null,
   "metadata": {
    "collapsed": true
   },
   "outputs": [],
   "source": []
  },
  {
   "cell_type": "code",
   "execution_count": null,
   "metadata": {
    "collapsed": true
   },
   "outputs": [],
   "source": []
  },
  {
   "cell_type": "markdown",
   "metadata": {},
   "source": [
    "# DECORATORS"
   ]
  },
  {
   "cell_type": "code",
   "execution_count": 243,
   "metadata": {
    "collapsed": false
   },
   "outputs": [
    {
     "name": "stdout",
     "output_type": "stream",
     "text": [
      "functioning\n"
     ]
    },
    {
     "data": {
      "text/plain": [
       "'executing foo'"
      ]
     },
     "execution_count": 243,
     "metadata": {},
     "output_type": "execute_result"
    }
   ],
   "source": [
    "def decorate_func(f):\n",
    "    def func_wrapper():\n",
    "        print 'functioning'\n",
    "        return f()\n",
    "    return func_wrapper\n",
    "\n",
    "@decorate_func\n",
    "def foo():\n",
    "    return 'executing foo'\n",
    "\n",
    "foo()"
   ]
  },
  {
   "cell_type": "code",
   "execution_count": 244,
   "metadata": {
    "collapsed": true
   },
   "outputs": [],
   "source": [
    "class curried(object):\n",
    "    def __init__(self, func, *a):\n",
    "        self.func = func\n",
    "        self.args = a\n",
    "    def __call__(self, *a):\n",
    "        args = self.args + a\n",
    "        if len(args) < self.func.func_code.co_argcount:\n",
    "            return curried(self.func, *args)\n",
    "        else:\n",
    "            output = self.func(*args)\n",
    "        self.args = (output,)\n",
    "        return output"
   ]
  },
  {
   "cell_type": "code",
   "execution_count": 249,
   "metadata": {
    "collapsed": false
   },
   "outputs": [
    {
     "name": "stdout",
     "output_type": "stream",
     "text": [
      "7\n",
      "12\n"
     ]
    }
   ],
   "source": [
    "@curried\n",
    "def add(a, b):\n",
    "    return a + b\n",
    "\n",
    "add1 = add(1)\n",
    "add1(3)\n",
    "print add1(3)\n",
    "print add1(5)"
   ]
  },
  {
   "cell_type": "code",
   "execution_count": 252,
   "metadata": {
    "collapsed": false
   },
   "outputs": [
    {
     "data": {
      "text/plain": [
       "'<p> executed baz </p>'"
      ]
     },
     "execution_count": 252,
     "metadata": {},
     "output_type": "execute_result"
    }
   ],
   "source": [
    "def decor(tag_name):\n",
    "    def tag_decorate(f):\n",
    "        def func_wrapper():\n",
    "            return '<' + tag_name + '> ' + f() + ' </' + tag_name + '>'\n",
    "        return func_wrapper\n",
    "    return tag_decorate\n",
    "\n",
    "@decor('p')\n",
    "def baz():\n",
    "    return 'executed baz'\n",
    "baz()"
   ]
  },
  {
   "cell_type": "code",
   "execution_count": 253,
   "metadata": {
    "collapsed": false
   },
   "outputs": [],
   "source": [
    "# Benchmark all iterations of function\n",
    "\n",
    "def benchmark(func):\n",
    "    from time import time\n",
    "    def func_wrapper(*args, **kwargs):\n",
    "        start = time()\n",
    "        func_output = func(*args, **kwargs)\n",
    "        completion = time() - start\n",
    "        with open('timekeeper.log', 'a') as f:\n",
    "            f.write('<function: %s> with <args:%s> and <kwargs:%s> took <%s seconds>\\n' % (func.__name__, args, kwargs, time()-start))\n",
    "        return func_output\n",
    "    return func_wrapper\n",
    "\n",
    "@benchmark\n",
    "def foo(x, z):\n",
    "    print x**z"
   ]
  },
  {
   "cell_type": "code",
   "execution_count": 258,
   "metadata": {
    "collapsed": false
   },
   "outputs": [
    {
     "name": "stdout",
     "output_type": "stream",
     "text": [
      "175921860444160000000000000000000000\n"
     ]
    }
   ],
   "source": [
    "foo(40, 22)"
   ]
  },
  {
   "cell_type": "code",
   "execution_count": 260,
   "metadata": {
    "collapsed": false
   },
   "outputs": [
    {
     "name": "stdout",
     "output_type": "stream",
     "text": [
      "hi\n",
      "hihi\n",
      "hihihi\n",
      "hihihihi\n",
      "hihihihihi\n",
      "hihihihihihi\n",
      "hihihihihihihi\n"
     ]
    }
   ],
   "source": [
    "\n",
    "\n",
    "counter = 0\n",
    "\n",
    "def incrementer(func):\n",
    "    def subfunc():\n",
    "        global counter\n",
    "        if not counter:\n",
    "            counter = 1\n",
    "        else:\n",
    "            counter += 1\n",
    "        return func()\n",
    "    return subfunc\n",
    "\n",
    "@incrementer\n",
    "def foobar():\n",
    "    return 'hi' * counter\n",
    "\n",
    "print foobar()\n",
    "print foobar()\n",
    "print foobar()\n",
    "print foobar()\n",
    "print foobar()\n",
    "print foobar()\n",
    "print foobar()"
   ]
  },
  {
   "cell_type": "code",
   "execution_count": null,
   "metadata": {
    "collapsed": true
   },
   "outputs": [],
   "source": []
  }
 ],
 "metadata": {
  "kernelspec": {
   "display_name": "Python 2",
   "language": "python",
   "name": "python2"
  },
  "language_info": {
   "codemirror_mode": {
    "name": "ipython",
    "version": 2
   },
   "file_extension": ".py",
   "mimetype": "text/x-python",
   "name": "python",
   "nbconvert_exporter": "python",
   "pygments_lexer": "ipython2",
   "version": "2.7.12"
  }
 },
 "nbformat": 4,
 "nbformat_minor": 0
}
